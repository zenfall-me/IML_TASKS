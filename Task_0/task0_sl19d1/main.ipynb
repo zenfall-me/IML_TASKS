{
 "cells": [
  {
   "cell_type": "code",
   "execution_count": 227,
   "id": "ce177f9c",
   "metadata": {
    "ExecuteTime": {
     "end_time": "2023-03-01T18:20:25.312164Z",
     "start_time": "2023-03-01T18:20:23.619340Z"
    },
    "pycharm": {
     "name": ""
    }
   },
   "outputs": [],
   "source": [
    "import numpy as np\n",
    "import pandas as pd\n",
    "from sklearn import linear_model"
   ]
  },
  {
   "cell_type": "code",
   "execution_count": 132,
   "id": "ed44d5fa",
   "metadata": {
    "ExecuteTime": {
     "end_time": "2023-03-01T18:30:04.178697Z",
     "start_time": "2023-03-01T18:30:04.081049Z"
    }
   },
   "outputs": [],
   "source": [
    "train_data = pd.read_csv (r'train.csv');\n",
    "test_data = pd.read_csv (r'test.csv');\n",
    "sample_data = pd.read_csv (r'sample.csv');"
   ]
  },
  {
   "cell_type": "code",
   "execution_count": 133,
   "id": "dae3dd62",
   "metadata": {
    "ExecuteTime": {
     "end_time": "2023-03-01T18:30:57.516883Z",
     "start_time": "2023-03-01T18:30:57.478498Z"
    }
   },
   "outputs": [
    {
     "data": {
      "text/plain": "0    738.023171\n1    400.646015\n2    189.900156\n3    -78.399449\n4   -547.373531\n5   -242.792588\n6   -581.856635\n7   -122.485412\n8    303.179061\n9    539.239367\nName: y, dtype: float64"
     },
     "execution_count": 133,
     "metadata": {},
     "output_type": "execute_result"
    }
   ],
   "source": [
    "td_x=train_data.iloc[:,2:]\n",
    "td_y=train_data.iloc[:,1]\n",
    "td_y.head(10)"
   ]
  },
  {
   "cell_type": "code",
   "execution_count": 228,
   "outputs": [],
   "source": [
    "reg = linear_model.LinearRegression()"
   ],
   "metadata": {
    "collapsed": false
   }
  },
  {
   "cell_type": "code",
   "execution_count": 229,
   "id": "f97bfe76",
   "metadata": {
    "ExecuteTime": {
     "end_time": "2023-03-01T18:30:10.129184Z",
     "start_time": "2023-03-01T18:30:10.074769Z"
    }
   },
   "outputs": [],
   "source": [
    "model_fit=LinearRegression().fit(td_x, td_y)\n",
    "model_fit.score(td_x, td_y)\n",
    "w_pred=model_fit.coef_\n"
   ]
  },
  {
   "cell_type": "code",
   "execution_count": 230,
   "outputs": [
    {
     "data": {
      "text/plain": "10"
     },
     "execution_count": 230,
     "metadata": {},
     "output_type": "execute_result"
    }
   ],
   "source": [
    "w_pred.shape[0]"
   ],
   "metadata": {
    "collapsed": false
   }
  },
  {
   "cell_type": "code",
   "execution_count": 231,
   "outputs": [
    {
     "data": {
      "text/plain": "0    738.023171\n1    400.646015\n2    189.900156\n3    -78.399449\n4   -547.373531\n5   -242.792588\n6   -581.856635\n7   -122.485412\n8    303.179061\n9    539.239367\ndtype: float64"
     },
     "execution_count": 231,
     "metadata": {},
     "output_type": "execute_result"
    }
   ],
   "source": [
    "td_y_pred = td_x @ w_pred\n",
    "td_y_pred.head(10)"
   ],
   "metadata": {
    "collapsed": false
   }
  },
  {
   "cell_type": "code",
   "execution_count": 232,
   "outputs": [
    {
     "data": {
      "text/plain": "134"
     },
     "execution_count": 232,
     "metadata": {},
     "output_type": "execute_result"
    }
   ],
   "source": [
    "\n",
    "hits = (td_y==td_y_pred)\n",
    "np.count_nonzero(hits)"
   ],
   "metadata": {
    "collapsed": false
   }
  },
  {
   "cell_type": "code",
   "execution_count": 221,
   "outputs": [
    {
     "data": {
      "text/plain": "1.0491761643512892e-12"
     },
     "execution_count": 221,
     "metadata": {},
     "output_type": "execute_result"
    }
   ],
   "source": [
    "\n",
    "\n",
    "RMSE = mean_squared_error(td_y, td_y_pred)**0.5\n",
    "RMSE"
   ],
   "metadata": {
    "collapsed": false
   }
  },
  {
   "cell_type": "code",
   "execution_count": 239,
   "outputs": [
    {
     "data": {
      "text/plain": "(2000, 10)"
     },
     "execution_count": 239,
     "metadata": {},
     "output_type": "execute_result"
    }
   ],
   "source": [
    "test_values = test_data.iloc[:,1:]\n",
    "test_values.shape"
   ],
   "metadata": {
    "collapsed": false
   }
  },
  {
   "cell_type": "code",
   "execution_count": 307,
   "outputs": [
    {
     "data": {
      "text/plain": "2000"
     },
     "execution_count": 307,
     "metadata": {},
     "output_type": "execute_result"
    }
   ],
   "source": [
    "\n",
    "\n",
    "#use model on test data\n",
    "test_pred = test_values @ w_pred\n",
    "test_pred.size"
   ],
   "metadata": {
    "collapsed": false
   }
  },
  {
   "cell_type": "code",
   "execution_count": 308,
   "outputs": [
    {
     "data": {
      "text/plain": "array([[1000.        ,  -66.00242349],\n       [1001.        ,  451.4065044 ],\n       [1002.        , -461.67641706],\n       ...,\n       [2997.        ,  -35.13540942],\n       [2998.        , -131.67918453],\n       [2999.        ,  417.26915462]])"
     },
     "execution_count": 308,
     "metadata": {},
     "output_type": "execute_result"
    }
   ],
   "source": [
    "n=test_pred.size\n",
    "\n",
    "solution = np.zeros((n,2))\n",
    "\n",
    "for i in range(test_pred.size):\n",
    "      solution[i,1] = test_pred[i]\n",
    "      solution[i,0]= (i+1000)\n",
    "solution\n"
   ],
   "metadata": {
    "collapsed": false
   }
  },
  {
   "cell_type": "code",
   "execution_count": 308,
   "outputs": [],
   "source": [],
   "metadata": {
    "collapsed": false
   }
  },
  {
   "cell_type": "code",
   "execution_count": 348,
   "outputs": [],
   "source": [
    "\n",
    "\n",
    "indexing = np.arange(10000,10000+n,1)\n",
    "data = np.transpose([indexing, test_pred])"
   ],
   "metadata": {
    "collapsed": false
   }
  },
  {
   "cell_type": "code",
   "execution_count": 349,
   "outputs": [],
   "source": [
    "df = pd.DataFrame(data=data)"
   ],
   "metadata": {
    "collapsed": false
   }
  },
  {
   "cell_type": "code",
   "execution_count": 350,
   "outputs": [
    {
     "data": {
      "text/plain": "            0           1\n0     10000.0  -66.002423\n1     10001.0  451.406504\n2     10002.0 -461.676417\n3     10003.0   40.501209\n4     10004.0 -126.744722\n...       ...         ...\n1995  11995.0  464.715255\n1996  11996.0  496.485334\n1997  11997.0  -35.135409\n1998  11998.0 -131.679185\n1999  11999.0  417.269155\n\n[2000 rows x 2 columns]",
      "text/html": "<div>\n<style scoped>\n    .dataframe tbody tr th:only-of-type {\n        vertical-align: middle;\n    }\n\n    .dataframe tbody tr th {\n        vertical-align: top;\n    }\n\n    .dataframe thead th {\n        text-align: right;\n    }\n</style>\n<table border=\"1\" class=\"dataframe\">\n  <thead>\n    <tr style=\"text-align: right;\">\n      <th></th>\n      <th>0</th>\n      <th>1</th>\n    </tr>\n  </thead>\n  <tbody>\n    <tr>\n      <th>0</th>\n      <td>10000.0</td>\n      <td>-66.002423</td>\n    </tr>\n    <tr>\n      <th>1</th>\n      <td>10001.0</td>\n      <td>451.406504</td>\n    </tr>\n    <tr>\n      <th>2</th>\n      <td>10002.0</td>\n      <td>-461.676417</td>\n    </tr>\n    <tr>\n      <th>3</th>\n      <td>10003.0</td>\n      <td>40.501209</td>\n    </tr>\n    <tr>\n      <th>4</th>\n      <td>10004.0</td>\n      <td>-126.744722</td>\n    </tr>\n    <tr>\n      <th>...</th>\n      <td>...</td>\n      <td>...</td>\n    </tr>\n    <tr>\n      <th>1995</th>\n      <td>11995.0</td>\n      <td>464.715255</td>\n    </tr>\n    <tr>\n      <th>1996</th>\n      <td>11996.0</td>\n      <td>496.485334</td>\n    </tr>\n    <tr>\n      <th>1997</th>\n      <td>11997.0</td>\n      <td>-35.135409</td>\n    </tr>\n    <tr>\n      <th>1998</th>\n      <td>11998.0</td>\n      <td>-131.679185</td>\n    </tr>\n    <tr>\n      <th>1999</th>\n      <td>11999.0</td>\n      <td>417.269155</td>\n    </tr>\n  </tbody>\n</table>\n<p>2000 rows × 2 columns</p>\n</div>"
     },
     "execution_count": 350,
     "metadata": {},
     "output_type": "execute_result"
    }
   ],
   "source": [
    "df"
   ],
   "metadata": {
    "collapsed": false
   }
  },
  {
   "cell_type": "code",
   "execution_count": 353,
   "outputs": [],
   "source": [
    "df.to_csv('solution_pandas.csv',index=False, header = [\"Id\",\"y\"])"
   ],
   "metadata": {
    "collapsed": false
   }
  },
  {
   "cell_type": "code",
   "execution_count": 354,
   "outputs": [],
   "source": [
    "df.to_csv('submission.csv',index=False, header = [\"Id\",\"y\"])"
   ],
   "metadata": {
    "collapsed": false
   }
  },
  {
   "cell_type": "code",
   "execution_count": 286,
   "outputs": [
    {
     "data": {
      "text/plain": "<bound method NDFrame.last of          Id           x1           x2           x3           x4           x5  \\\n0     10000  -483.797492  1288.057065  -129.878712  -198.078388  -334.487592   \n1     10001  -316.407305    30.830556  -313.356726  -173.259184  -327.368719   \n2     10002 -2448.558997  -561.988408   355.098820   634.378170  -392.450091   \n3     10003  -942.120025   945.373015   140.910705  1753.565841  -347.223685   \n4     10004  1752.366157  -597.550816  -466.491398 -1094.792276  -645.424882   \n...     ...          ...          ...          ...          ...          ...   \n1995  11995   -70.207810   328.849423  1006.084617   440.948562  -692.274282   \n1996  11996 -1692.417164   968.971133  1371.423442  -144.224724   503.164492   \n1997  11997   199.864648   261.345779  -127.986805  -298.503216  -364.240174   \n1998  11998  -151.673157 -1425.199620  1070.922114   938.800763  1373.176372   \n1999  11999   -97.089983   780.444250   221.081520    72.748763 -1484.861623   \n\n               x6           x7           x8           x9          x10  \n0     -391.443186  -612.406176  -676.523964  1327.229655  -448.695446  \n1      944.368248  1122.017380   112.338731  1372.340221  2062.561842  \n2     -813.156399  -232.873263   246.801210  -562.413197  -841.602015  \n3    -1489.493408  -508.035412  1992.650031   555.461973 -1696.076948  \n4     -202.154830   205.073469  -270.385827  -310.299496   362.212675  \n...           ...          ...          ...          ...          ...  \n1995   237.091043  -565.192046  1893.955311  1277.944394   789.953338  \n1996  -228.219798   153.761541  1872.043587  2153.553632     6.797203  \n1997 -1370.134911   769.662730  -517.182892    79.694141  1016.126607  \n1998  -583.905998  -292.269529 -1206.766021 -1047.464871     7.588102  \n1999   462.159812  1549.025158  2531.705492   -35.722034   173.200191  \n\n[2000 rows x 11 columns]>"
     },
     "execution_count": 286,
     "metadata": {},
     "output_type": "execute_result"
    }
   ],
   "source": [],
   "metadata": {
    "collapsed": false
   }
  },
  {
   "cell_type": "code",
   "execution_count": 372,
   "outputs": [],
   "source": [
    "#this was made with gpt, way slicker\n",
    "\n",
    "# create a numpy array of 2000 float values\n",
    "arr = np.array(test_pred)\n",
    "\n",
    "# create a pandas DataFrame with index starting from 10000 and column name \"y\"\n",
    "df = pd.DataFrame(arr, index=np.arange(10000, 12000), columns=[\"y\"])\n",
    "\n",
    "# add a column \"Id\" with values equal to the index\n",
    "df.insert(0, \"Id\", df.index)\n",
    "\n",
    "# save DataFrame to a CSV file\n",
    "df.to_csv(\"output.csv\", index=False)"
   ],
   "metadata": {
    "collapsed": false
   }
  },
  {
   "cell_type": "code",
   "execution_count": 380,
   "outputs": [
    {
     "ename": "AttributeError",
     "evalue": "'numpy.ndarray' object has no attribute 'type'",
     "output_type": "error",
     "traceback": [
      "\u001B[1;31m---------------------------------------------------------------------------\u001B[0m",
      "\u001B[1;31mAttributeError\u001B[0m                            Traceback (most recent call last)",
      "Cell \u001B[1;32mIn [380], line 1\u001B[0m\n\u001B[1;32m----> 1\u001B[0m \u001B[43marr\u001B[49m\u001B[38;5;241;43m.\u001B[39;49m\u001B[43mtype\u001B[49m\n",
      "\u001B[1;31mAttributeError\u001B[0m: 'numpy.ndarray' object has no attribute 'type'"
     ]
    }
   ],
   "source": [],
   "metadata": {
    "collapsed": false
   }
  },
  {
   "cell_type": "code",
   "execution_count": 367,
   "outputs": [
    {
     "ename": "AttributeError",
     "evalue": "'Series' object has no attribute 'type'",
     "output_type": "error",
     "traceback": [
      "\u001B[1;31m---------------------------------------------------------------------------\u001B[0m",
      "\u001B[1;31mAttributeError\u001B[0m                            Traceback (most recent call last)",
      "Cell \u001B[1;32mIn [367], line 1\u001B[0m\n\u001B[1;32m----> 1\u001B[0m \u001B[43mtest_pred\u001B[49m\u001B[38;5;241;43m.\u001B[39;49m\u001B[43mtype\u001B[49m\n",
      "File \u001B[1;32m~\\AppData\\Local\\Programs\\Python\\Python310\\lib\\site-packages\\pandas\\core\\generic.py:5902\u001B[0m, in \u001B[0;36mNDFrame.__getattr__\u001B[1;34m(self, name)\u001B[0m\n\u001B[0;32m   5895\u001B[0m \u001B[38;5;28;01mif\u001B[39;00m (\n\u001B[0;32m   5896\u001B[0m     name \u001B[38;5;129;01mnot\u001B[39;00m \u001B[38;5;129;01min\u001B[39;00m \u001B[38;5;28mself\u001B[39m\u001B[38;5;241m.\u001B[39m_internal_names_set\n\u001B[0;32m   5897\u001B[0m     \u001B[38;5;129;01mand\u001B[39;00m name \u001B[38;5;129;01mnot\u001B[39;00m \u001B[38;5;129;01min\u001B[39;00m \u001B[38;5;28mself\u001B[39m\u001B[38;5;241m.\u001B[39m_metadata\n\u001B[0;32m   5898\u001B[0m     \u001B[38;5;129;01mand\u001B[39;00m name \u001B[38;5;129;01mnot\u001B[39;00m \u001B[38;5;129;01min\u001B[39;00m \u001B[38;5;28mself\u001B[39m\u001B[38;5;241m.\u001B[39m_accessors\n\u001B[0;32m   5899\u001B[0m     \u001B[38;5;129;01mand\u001B[39;00m \u001B[38;5;28mself\u001B[39m\u001B[38;5;241m.\u001B[39m_info_axis\u001B[38;5;241m.\u001B[39m_can_hold_identifiers_and_holds_name(name)\n\u001B[0;32m   5900\u001B[0m ):\n\u001B[0;32m   5901\u001B[0m     \u001B[38;5;28;01mreturn\u001B[39;00m \u001B[38;5;28mself\u001B[39m[name]\n\u001B[1;32m-> 5902\u001B[0m \u001B[38;5;28;01mreturn\u001B[39;00m \u001B[38;5;28;43mobject\u001B[39;49m\u001B[38;5;241;43m.\u001B[39;49m\u001B[38;5;21;43m__getattribute__\u001B[39;49m\u001B[43m(\u001B[49m\u001B[38;5;28;43mself\u001B[39;49m\u001B[43m,\u001B[49m\u001B[43m \u001B[49m\u001B[43mname\u001B[49m\u001B[43m)\u001B[49m\n",
      "\u001B[1;31mAttributeError\u001B[0m: 'Series' object has no attribute 'type'"
     ]
    }
   ],
   "source": [],
   "metadata": {
    "collapsed": false
   }
  },
  {
   "cell_type": "code",
   "execution_count": 369,
   "outputs": [
    {
     "data": {
      "text/plain": "pandas.core.series.Series"
     },
     "execution_count": 369,
     "metadata": {},
     "output_type": "execute_result"
    }
   ],
   "source": [],
   "metadata": {
    "collapsed": false
   }
  },
  {
   "cell_type": "code",
   "execution_count": null,
   "outputs": [],
   "source": [],
   "metadata": {
    "collapsed": false
   }
  }
 ],
 "metadata": {
  "kernelspec": {
   "display_name": "Python 3 (ipykernel)",
   "language": "python",
   "name": "python3"
  },
  "language_info": {
   "codemirror_mode": {
    "name": "ipython",
    "version": 3
   },
   "file_extension": ".py",
   "mimetype": "text/x-python",
   "name": "python",
   "nbconvert_exporter": "python",
   "pygments_lexer": "ipython3",
   "version": "3.9.16"
  }
 },
 "nbformat": 4,
 "nbformat_minor": 5
}
