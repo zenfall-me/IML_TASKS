{
 "cells": [
  {
   "cell_type": "code",
   "execution_count": 10,
   "id": "5eeb1e6a-836e-43af-8ff6-e26756b9eee9",
   "metadata": {
    "tags": []
   },
   "outputs": [],
   "source": [
    "import numpy as np\n",
    "import pandas as pd\n",
    "from sklearn import linear_model\n",
    "from sklearn.linear_model import ElasticNetCV"
   ]
  },
  {
   "cell_type": "code",
   "execution_count": 2,
   "id": "a10c9aa6-69b0-4573-95f9-466ae27f29d7",
   "metadata": {
    "tags": []
   },
   "outputs": [],
   "source": [
    "def transform_data(X):\n",
    "    \"\"\"\n",
    "    This function transforms the 5 input features of matrix X (x_i denoting the i-th component of X) \n",
    "    into 21 new features phi(X) in the following manner:\n",
    "    5 linear features: phi_1(X) = x_1, phi_2(X) = x_2, phi_3(X) = x_3, phi_4(X) = x_4, phi_5(X) = x_5\n",
    "    5 quadratic features: phi_6(X) = x_1^2, phi_7(X) = x_2^2, phi_8(X) = x_3^2, phi_9(X) = x_4^2, phi_10(X) = x_5^2\n",
    "    5 exponential features: phi_11(X) = exp(x_1), phi_12(X) = exp(x_2), phi_13(X) = exp(x_3), phi_14(X) = exp(x_4), phi_15(X) = exp(x_5)\n",
    "    5 cosine features: phi_16(X) = cos(x_1), phi_17(X) = cos(x_2), phi_18(X) = cos(x_3), phi_19(X) = cos(x_4), phi_20(X) = cos(x_5)\n",
    "    1 constant features: phi_21(X)=1\n",
    "\n",
    "    Parameters\n",
    "    ----------\n",
    "    X: matrix of floats, dim = (700,5), inputs with 5 features\n",
    "\n",
    "    Returns\n",
    "    ----------\n",
    "    X_transformed: array of floats: dim = (700,21), transformed input with 21 features\n",
    "    \"\"\"\n",
    "\n",
    "    X_square = np.square(X)\n",
    "    X_exp = np.exp(X)\n",
    "    X_cos = np.cos(X)\n",
    "    const = np.ones((700,1))\n",
    "    \n",
    "    X_transformed = np.concatenate((X, X_square, X_exp, X_cos, const), 1)\n",
    "    \n",
    "    assert X_transformed.shape == (700, 21)\n",
    "    return X_transformed"
   ]
  },
  {
   "cell_type": "code",
   "execution_count": 16,
   "id": "0a466cce-6ec8-4d08-8107-482a664d0e96",
   "metadata": {
    "tags": []
   },
   "outputs": [],
   "source": [
    "def fit(X, y):\n",
    "    \"\"\"\n",
    "    This function receives training data points, transform them, and then fits the linear regression on this \n",
    "    transformed data. Finally, it outputs the weights of the fitted linear regression. \n",
    "\n",
    "    Parameters\n",
    "    ----------\n",
    "    X: matrix of floats, dim = (700,5), inputs with 5 features\n",
    "    y: array of floats, dim = (700,), input labels)\n",
    "\n",
    "    Returns\n",
    "    ----------\n",
    "    w: array of floats: dim = (21,), optimal parameters of linear regression\n",
    "    \"\"\"\n",
    "    X_transformed = transform_data(X)\n",
    "    \n",
    "    # Compute closed form solution w  = (X^T*X)^-1 * X^T*y\n",
    "    # by solving the linear system X^T*X*w = X^T*y\n",
    "    #w = np.linalg.solve(np.dot(X_transformed.T, X_transformed), np.dot(X_transformed.T, y))\n",
    "    \n",
    "    # Compute Solution using sklearns linear regression method\n",
    "    #reg = linear_model.LinearRegression(fit_intercept=False)\n",
    "    #reg.fit(X_transformed,y)\n",
    "    #w = reg.coef_\n",
    "    \n",
    "    # Compute Solution using ElsaticNet with Crossvalidation\n",
    "    regr = ElasticNetCV(cv=5, random_state=0, fit_intercept=False, max_iter = 10000)\n",
    "    regr.fit(X_transformed, y)\n",
    "    w = regr.coef_\n",
    "    \n",
    "    print(w)\n",
    "    \n",
    "    assert w.shape == (21,)\n",
    "    return w"
   ]
  },
  {
   "cell_type": "code",
   "execution_count": 17,
   "id": "81d8f2fc-6ba0-4d58-adbf-e8991556e18a",
   "metadata": {
    "tags": []
   },
   "outputs": [
    {
     "name": "stdout",
     "output_type": "stream",
     "text": [
      "     x1    x2    x3    x4    x5\n",
      "0  0.02  0.05 -0.09 -0.43 -0.08\n",
      "1 -0.13  0.11 -0.08 -0.29 -0.03\n",
      "2  0.08  0.06 -0.07 -0.41 -0.03\n",
      "3  0.02 -0.12  0.01 -0.43 -0.02\n",
      "4 -0.14 -0.12 -0.08 -0.02 -0.08\n",
      "[ 0.         -0.         -0.          0.          0.         -0.\n",
      "  0.          0.         -0.          0.         -0.46047154 -0.91661701\n",
      " -1.09949531 -0.16160283 -0.43410309 -0.51023268 -0.63959144 -0.64157583\n",
      " -0.46239592 -0.59503649 -0.58923516]\n"
     ]
    }
   ],
   "source": [
    "if __name__ == \"__main__\":\n",
    "    # Data loading\n",
    "    data = pd.read_csv(\"train.csv\")\n",
    "    y = data[\"y\"].to_numpy()\n",
    "    data = data.drop(columns=[\"Id\", \"y\"])\n",
    "    # print a few data samples\n",
    "    print(data.head())\n",
    "\n",
    "    X = data.to_numpy()\n",
    "    # The function retrieving optimal LR parameters\n",
    "    w = fit(X, y)\n",
    "    # Save results in the required format\n",
    "    np.savetxt(\"./results.csv\", w, fmt=\"%.12f\")"
   ]
  },
  {
   "cell_type": "code",
   "execution_count": null,
   "id": "7cf988b8-f7d7-48d1-8f96-c9e32e826498",
   "metadata": {},
   "outputs": [],
   "source": []
  }
 ],
 "metadata": {
  "kernelspec": {
   "display_name": "Python 3 (ipykernel)",
   "language": "python",
   "name": "python3"
  },
  "language_info": {
   "codemirror_mode": {
    "name": "ipython",
    "version": 3
   },
   "file_extension": ".py",
   "mimetype": "text/x-python",
   "name": "python",
   "nbconvert_exporter": "python",
   "pygments_lexer": "ipython3",
   "version": "3.10.9"
  }
 },
 "nbformat": 4,
 "nbformat_minor": 5
}
