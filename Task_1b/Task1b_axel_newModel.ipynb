{
 "cells": [
  {
   "cell_type": "code",
   "execution_count": 57,
   "outputs": [],
   "source": [
    "import numpy as np\n",
    "import pandas as pd\n",
    "from sklearn import linear_model\n",
    "from sklearn.linear_model import ElasticNetCV\n",
    "from sklearn.linear_model import RidgeCV\n",
    "from sklearn.linear_model import LassoCV\n",
    "from sklearn.metrics import mean_squared_error"
   ],
   "metadata": {
    "collapsed": false
   }
  },
  {
   "cell_type": "code",
   "execution_count": 58,
   "outputs": [],
   "source": [
    "def transform_data(X):\n",
    "    \"\"\"\n",
    "    This function transforms the 5 input features of matrix X (x_i denoting the i-th component of X)\n",
    "    into 21 new features phi(X) in the following manner:\n",
    "    5 linear features: phi_1(X) = x_1, phi_2(X) = x_2, phi_3(X) = x_3, phi_4(X) = x_4, phi_5(X) = x_5\n",
    "    5 quadratic features: phi_6(X) = x_1^2, phi_7(X) = x_2^2, phi_8(X) = x_3^2, phi_9(X) = x_4^2, phi_10(X) = x_5^2\n",
    "    5 exponential features: phi_11(X) = exp(x_1), phi_12(X) = exp(x_2), phi_13(X) = exp(x_3), phi_14(X) = exp(x_4), phi_15(X) = exp(x_5)\n",
    "    5 cosine features: phi_16(X) = cos(x_1), phi_17(X) = cos(x_2), phi_18(X) = cos(x_3), phi_19(X) = cos(x_4), phi_20(X) = cos(x_5)\n",
    "    1 constant features: phi_21(X)=1\n",
    "\n",
    "    Parameters\n",
    "    ----------\n",
    "    X: matrix of floats, dim = (700,5), inputs with 5 features\n",
    "\n",
    "    Returns\n",
    "    ----------\n",
    "    X_transformed: array of floats: dim = (700,21), transformed input with 21 features\n",
    "    \"\"\"\n",
    "\n",
    "    X_square = np.square(X)\n",
    "    X_exp = np.exp(X)\n",
    "    X_cos = np.cos(X)\n",
    "    const = np.ones((700,1))\n",
    "\n",
    "    X_transformed = np.concatenate((X, X_square, X_exp, X_cos, const), 1)\n",
    "\n",
    "    assert X_transformed.shape == (700, 21)\n",
    "    return X_transformed"
   ],
   "metadata": {
    "collapsed": false
   }
  },
  {
   "cell_type": "code",
   "execution_count": 59,
   "outputs": [],
   "source": [
    "def fit(X, y):\n",
    "    \"\"\"\n",
    "    This function receives training data points, transform them, and then fits the linear regression on this\n",
    "    transformed data. Finally, it outputs the weights of the fitted linear regression.\n",
    "\n",
    "    Parameters\n",
    "    ----------\n",
    "    X: matrix of floats, dim = (700,5), inputs with 5 features\n",
    "    y: array of floats, dim = (700,), input labels)\n",
    "\n",
    "    Returns\n",
    "    ----------\n",
    "    w: array of floats: dim = (21,), optimal parameters of linear regression\n",
    "    \"\"\"\n",
    "    X_transformed = transform_data(X)\n",
    "\n",
    "    # Compute closed form solution w  = (X^T*X)^-1 * X^T*y\n",
    "    # by solving the linear system X^T*X*w = X^T*y\n",
    "    #w = np.linalg.solve(np.dot(X_transformed.T, X_transformed), np.dot(X_transformed.T, y))\n",
    "\n",
    "    # Compute Solution using sklearns linear regression method\n",
    "    #reg = linear_model.LinearRegression(fit_intercept=False)\n",
    "    #reg.fit(X_transformed,y)\n",
    "    #w = reg.coef_\n",
    "\n",
    "    #using lassoCV\n",
    "    regr_LCV = LassoCV(cv=10, fit_intercept=False, random_state=0, alphas=1e-2*np.linspace(1,10, num=100), max_iter = 10000)\n",
    "    regr_LCV.fit(X_transformed, y)\n",
    "    w_LCV = regr_LCV.coef_\n",
    "    y_pred_LCV = regr_LCV.predict(X_transformed)\n",
    "    RMSE = mean_squared_error(y_pred_LCV,y)**0.5\n",
    "    print('LCV')\n",
    "    print(RMSE)\n",
    "\n",
    "    # Compute Solution using ElsaticNet with Crossvalidation\n",
    "    regr_RCV = RidgeCV(cv=50, alphas=np.linspace(1,100, num=100), fit_intercept=False )\n",
    "    regr_RCV.fit(X_transformed, y)\n",
    "    w_RCV = regr_RCV.coef_\n",
    "    y_pred_RCV = regr_RCV.predict(X_transformed)\n",
    "    RMSE = mean_squared_error(y_pred_RCV,y)**0.5\n",
    "    print('RCV')\n",
    "    print(RMSE)\n",
    "\n",
    "    ##using ElasticNetCV\n",
    "    regr = ElasticNetCV(cv=100, random_state=0, fit_intercept=False, max_iter = 10000)\n",
    "    regr.fit(X_transformed, y)\n",
    "    w_ECV = regr.coef_\n",
    "    y_pred_ECV = regr.predict(X_transformed)\n",
    "    RMSE = mean_squared_error(y_pred_ECV,y)**0.5\n",
    "    print('ECV')\n",
    "    print(RMSE)\n",
    "\n",
    "\n",
    "    w=w_RCV\n",
    "    assert w.shape == (21,)\n",
    "    return w"
   ],
   "metadata": {
    "collapsed": false
   }
  },
  {
   "cell_type": "code",
   "execution_count": 60,
   "outputs": [
    {
     "name": "stdout",
     "output_type": "stream",
     "text": [
      "LCV\n",
      "1.947677101210053\n",
      "RCV\n",
      "1.9523913047078831\n",
      "ECV\n",
      "1.9507974819471696\n",
      "[ 0.08500373 -0.17014155 -0.25048316  0.20604224  0.06642821 -0.0801026\n",
      "  0.03668773  0.0452679  -0.09223525  0.01007583 -0.54192089 -0.73899124\n",
      " -0.81603454 -0.42280554 -0.51610987 -0.54614158 -0.60417397 -0.60843203\n",
      " -0.54060893 -0.5906718  -0.58594306]\n"
     ]
    }
   ],
   "source": [
    "if __name__ == \"__main__\":\n",
    "    # Data loading\n",
    "    data = pd.read_csv(\"train.csv\")\n",
    "    y = data[\"y\"].to_numpy()\n",
    "    data = data.drop(columns=[\"Id\", \"y\"])\n",
    "    # print a few data samples\n",
    "    #print(data.head())\n",
    "\n",
    "    X = data.to_numpy()\n",
    "    # The function retrieving optimal LR parameters\n",
    "    w = fit(X, y)\n",
    "    # Save results in the required format\n",
    "    print(w)\n",
    "    np.savetxt(\"./results_RCV_50.csv\", w, fmt=\"%.12f\")\n"
   ],
   "metadata": {
    "collapsed": false
   }
  }
 ],
 "metadata": {
  "kernelspec": {
   "display_name": "Python 3",
   "language": "python",
   "name": "python3"
  },
  "language_info": {
   "codemirror_mode": {
    "name": "ipython",
    "version": 2
   },
   "file_extension": ".py",
   "mimetype": "text/x-python",
   "name": "python",
   "nbconvert_exporter": "python",
   "pygments_lexer": "ipython2",
   "version": "2.7.6"
  }
 },
 "nbformat": 4,
 "nbformat_minor": 0
}
