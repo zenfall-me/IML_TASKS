{
 "cells": [
  {
   "cell_type": "markdown",
   "source": [],
   "metadata": {
    "collapsed": false
   }
  },
  {
   "cell_type": "code",
   "execution_count": 387,
   "outputs": [],
   "source": [
    "# This serves as a template which will guide you through the implementation of this task.  It is advised\n",
    "# to first read the whole template and get a sense of the overall structure of the code before trying to fill in any of the TODO gaps\n",
    "# First, we import necessary libraries:\n",
    "import numpy as np\n",
    "import pandas as pd\n",
    "import missingno as msno\n",
    "import matplotlib.pyplot as plt\n",
    "\n",
    "from sklearn.experimental import enable_iterative_imputer\n",
    "from sklearn.impute import IterativeImputer\n",
    "from sklearn.gaussian_process import GaussianProcessRegressor\n",
    "from sklearn.gaussian_process.kernels import DotProduct, RBF, Matern, RationalQuadratic\n",
    "from sklearn.metrics import r2_score\n"
   ],
   "metadata": {
    "collapsed": false
   }
  },
  {
   "cell_type": "code",
   "execution_count": 388,
   "outputs": [],
   "source": [
    "def impute(data):\n",
    "    #impute given data set with IterativeIputer function, not really sure how it works\n",
    "    imp = IterativeImputer(random_state=0)\n",
    "    imp.fit(data)\n",
    "    imputed = imp.transform(data)\n",
    "    return imputed"
   ],
   "metadata": {
    "collapsed": false
   }
  },
  {
   "cell_type": "code",
   "execution_count": 389,
   "outputs": [],
   "source": [
    "\n",
    "def data_loading():\n",
    "    #true imputing after splitting x,y | false imputing before splitting\n",
    "    ex = True\n",
    "    \"\"\"\n",
    "    This function loads the training and test data, preprocesses it, removes the NaN values and interpolates the missing\n",
    "    data using imputation\n",
    "\n",
    "    Parameters\n",
    "    ----------\n",
    "    Returns\n",
    "    ----------\n",
    "    X_train: matrix of floats, training input with features\n",
    "    y_train: array of floats, training output with labels\n",
    "    X_test: matrix of floats: dim = (100, ?), test input with features\n",
    "    \"\"\"\n",
    "    # Load training data\n",
    "\n",
    "\n",
    "    train_df = pd.read_csv(\"train.csv\")\n",
    "\n",
    "    # print(\"Training data:\")\n",
    "    # print(\"Shape:\", train_df.shape)\n",
    "    # print(train_df.head(2))\n",
    "    # print('\\n')\n",
    "\n",
    "    # Load test data\n",
    "    test_df = pd.read_csv(\"test.csv\")\n",
    "\n",
    "    # print(\"Test data:\")\n",
    "    # print(test_df.shape)\n",
    "    # print(test_df.head(2))\n",
    "\n",
    "    #drop rows where y_train = NaN\n",
    "    train_df = train_df.dropna(axis=0,subset='price_CHF')\n",
    "\n",
    "    #change season string to int\n",
    "    mapping = {'spring': 1, 'summer': 2, 'autumn': 3, 'winter': 4}\n",
    "    train_df=train_df.replace({'season': mapping})\n",
    "    test_df=test_df.replace({'season': mapping})\n",
    "\n",
    "    #impute the training and test data This or impute X,y sets i dont know whats smarter\n",
    "    if not ex:\n",
    "         test_df = impute(test_df)\n",
    "         train_df = impute(train_df)\n",
    "\n",
    "    # Dummy initialization of the X_train, X_test and y_train\n",
    "\n",
    "    if ex:\n",
    "        X_train = train_df.drop(['price_CHF'],axis=1)\n",
    "        y_train = train_df['price_CHF']\n",
    "        X_test = test_df\n",
    "    else:\n",
    "        X_train = np.delete(train_df, 2, axis=1)\n",
    "        y_train = train_df[:, 2]\n",
    "        X_test = test_df\n",
    "\n",
    "\n",
    "\n",
    "    #impute X's\n",
    "    if ex:\n",
    "        X_train = impute(X_train)\n",
    "        X_test = impute(X_test)\n",
    "    assert (X_train.shape[1] == X_test.shape[1]) and (X_train.shape[0] == y_train.shape[0]) and (X_test.shape[0] == 100), \"Invalid data shape\"\n",
    "    return X_train, y_train, X_test"
   ],
   "metadata": {
    "collapsed": false
   }
  },
  {
   "cell_type": "code",
   "execution_count": 390,
   "outputs": [],
   "source": [
    "\n",
    "def modeling_and_prediction(X_train, y_train, X_test):\n",
    "    \"\"\"\n",
    "    This function defines the model, fits training data and then does the prediction with the test data\n",
    "\n",
    "    Parameters\n",
    "    ----------\n",
    "    X_train: matrix of floats, training input with 10 features\n",
    "    y_train: array of floats, training output\n",
    "    X_test: matrix of floats: dim = (100, ?), test input with 10 features\n",
    "\n",
    "    Returns\n",
    "    ----------\n",
    "    y_test: array of floats: dim = (100,), predictions on test set\n",
    "    \"\"\"\n",
    "\n",
    "    y_pred=np.zeros(X_test.shape[0])\n",
    "    #TODO: Define the model and fit it using training data. Then, use test data to make predictions\n",
    "    if False: #try inv mapping of seasons gaussian says no\n",
    "        imapping = { 1:'spring',  2:'summer',  3:'autumn',  4:'winter'}\n",
    "        X_train = [[imapping[num] if i == 0 else num for i, num in enumerate(row)]\n",
    "                         for row in X_train]\n",
    "        X_test = [[imapping[num] if i == 0 else num for i, num in enumerate(row)]\n",
    "                         for row in X_test]\n",
    "\n",
    "    if True:\n",
    "        X_train = np.delete(X_train, 0, axis=1)\n",
    "        y_train = y_train\n",
    "        X_test = np.delete(X_test, 0, axis=1)\n",
    "\n",
    "\n",
    "    KERNELS = [DotProduct, RBF, Matern, RationalQuadratic]\n",
    "    gpr = GaussianProcessRegressor(kernel=Matern())\n",
    "    gpr.fit(X_train, y_train)\n",
    "    y_pred = gpr.predict(X_test)\n",
    "\n",
    "    y_train_pred = gpr.predict(X_train)\n",
    "    print(r2_score(y_train, y_train_pred))\n",
    "\n",
    "    assert y_pred.shape == (100,), \"Invalid data shape\"\n",
    "    return y_pred"
   ],
   "metadata": {
    "collapsed": false
   }
  },
  {
   "cell_type": "code",
   "execution_count": 391,
   "outputs": [
    {
     "name": "stdout",
     "output_type": "stream",
     "text": [
      "1.0\n",
      "\n",
      "Results file successfully generated!\n"
     ]
    }
   ],
   "source": [
    "\n",
    "# Main function. You don't have to change this\n",
    "if __name__ == \"__main__\":\n",
    "    # Data loading\n",
    "    X_train, y_train, X_test = data_loading()\n",
    "    # The function retrieving optimal LR parameters\n",
    "    y_pred=modeling_and_prediction(X_train, y_train, X_test)\n",
    "    # Save results in the required format\n",
    "    dt = pd.DataFrame(y_pred)\n",
    "    dt.columns = ['price_CHF']\n",
    "    dt.to_csv('results_M4.csv', index=False)\n",
    "    print(\"\\nResults file successfully generated!\")\n",
    "\n"
   ],
   "metadata": {
    "collapsed": false
   }
  },
  {
   "cell_type": "code",
   "execution_count": 0,
   "outputs": [],
   "source": [
    "# for name in list(train_df):\n",
    "#    v = train_df[name].isna().sum()\n",
    "#    print(f'{name}: {v}')\n",
    "# msno.bar(train_df, figsize=(12, 6), fontsize=12, color='steelblue')\n",
    "# season is complete rest of data is missing evenly, dropping empty rows results in len(train_df.dropna()) =0"
   ],
   "metadata": {
    "collapsed": false
   }
  },
  {
   "cell_type": "code",
   "execution_count": 395,
   "outputs": [
    {
     "data": {
      "text/plain": "     season  price_AUS  price_CHF  price_CZE  price_GER  price_ESP  price_FRA  \\\n0         1        NaN   9.644028  -1.686248  -1.748076  -3.666005        NaN   \n1         2        NaN   7.246061  -2.132377  -2.054363  -3.295697  -4.104759   \n2         3  -2.101937   7.620085  -1.910282        NaN  -3.388777        NaN   \n3         4  -2.098475   8.411894  -1.903834        NaN  -3.588235        NaN   \n4         1  -1.969687   8.926884  -1.697257  -1.331049        NaN  -3.911096   \n..      ...        ...        ...        ...        ...        ...        ...   \n889       2        NaN   3.237347   0.235917  -0.306331        NaN  -2.735177   \n890       3  -1.079859   2.679221        NaN  -0.226806        NaN        NaN   \n891       4  -0.961371   3.633928   0.352449        NaN  -3.488688        NaN   \n894       3  -1.186919  -0.303802        NaN   0.236214  -3.333672  -2.262145   \n896       1  -1.061639  -1.734754   0.281646        NaN  -3.466753  -1.929701   \n\n     price_UK  price_ITA  price_POL  price_SVK  \n0   -1.822720  -3.931031        NaN  -3.238197  \n1   -1.826021        NaN        NaN  -3.212894  \n2   -2.034409  -4.073850        NaN  -3.114061  \n3   -2.214720  -4.018620  -2.330803        NaN  \n4   -2.388092  -4.093946        NaN        NaN  \n..        ...        ...        ...        ...  \n889 -1.839910  -2.378179   2.535228        NaN  \n890 -1.807515  -2.223057   2.555153   2.189913  \n891 -1.568924        NaN   2.706716   2.520366  \n894 -1.246151  -1.801203        NaN        NaN  \n896       NaN  -1.508756   3.187263        NaN  \n\n[631 rows x 11 columns]",
      "text/html": "<div>\n<style scoped>\n    .dataframe tbody tr th:only-of-type {\n        vertical-align: middle;\n    }\n\n    .dataframe tbody tr th {\n        vertical-align: top;\n    }\n\n    .dataframe thead th {\n        text-align: right;\n    }\n</style>\n<table border=\"1\" class=\"dataframe\">\n  <thead>\n    <tr style=\"text-align: right;\">\n      <th></th>\n      <th>season</th>\n      <th>price_AUS</th>\n      <th>price_CHF</th>\n      <th>price_CZE</th>\n      <th>price_GER</th>\n      <th>price_ESP</th>\n      <th>price_FRA</th>\n      <th>price_UK</th>\n      <th>price_ITA</th>\n      <th>price_POL</th>\n      <th>price_SVK</th>\n    </tr>\n  </thead>\n  <tbody>\n    <tr>\n      <th>0</th>\n      <td>1</td>\n      <td>NaN</td>\n      <td>9.644028</td>\n      <td>-1.686248</td>\n      <td>-1.748076</td>\n      <td>-3.666005</td>\n      <td>NaN</td>\n      <td>-1.822720</td>\n      <td>-3.931031</td>\n      <td>NaN</td>\n      <td>-3.238197</td>\n    </tr>\n    <tr>\n      <th>1</th>\n      <td>2</td>\n      <td>NaN</td>\n      <td>7.246061</td>\n      <td>-2.132377</td>\n      <td>-2.054363</td>\n      <td>-3.295697</td>\n      <td>-4.104759</td>\n      <td>-1.826021</td>\n      <td>NaN</td>\n      <td>NaN</td>\n      <td>-3.212894</td>\n    </tr>\n    <tr>\n      <th>2</th>\n      <td>3</td>\n      <td>-2.101937</td>\n      <td>7.620085</td>\n      <td>-1.910282</td>\n      <td>NaN</td>\n      <td>-3.388777</td>\n      <td>NaN</td>\n      <td>-2.034409</td>\n      <td>-4.073850</td>\n      <td>NaN</td>\n      <td>-3.114061</td>\n    </tr>\n    <tr>\n      <th>3</th>\n      <td>4</td>\n      <td>-2.098475</td>\n      <td>8.411894</td>\n      <td>-1.903834</td>\n      <td>NaN</td>\n      <td>-3.588235</td>\n      <td>NaN</td>\n      <td>-2.214720</td>\n      <td>-4.018620</td>\n      <td>-2.330803</td>\n      <td>NaN</td>\n    </tr>\n    <tr>\n      <th>4</th>\n      <td>1</td>\n      <td>-1.969687</td>\n      <td>8.926884</td>\n      <td>-1.697257</td>\n      <td>-1.331049</td>\n      <td>NaN</td>\n      <td>-3.911096</td>\n      <td>-2.388092</td>\n      <td>-4.093946</td>\n      <td>NaN</td>\n      <td>NaN</td>\n    </tr>\n    <tr>\n      <th>...</th>\n      <td>...</td>\n      <td>...</td>\n      <td>...</td>\n      <td>...</td>\n      <td>...</td>\n      <td>...</td>\n      <td>...</td>\n      <td>...</td>\n      <td>...</td>\n      <td>...</td>\n      <td>...</td>\n    </tr>\n    <tr>\n      <th>889</th>\n      <td>2</td>\n      <td>NaN</td>\n      <td>3.237347</td>\n      <td>0.235917</td>\n      <td>-0.306331</td>\n      <td>NaN</td>\n      <td>-2.735177</td>\n      <td>-1.839910</td>\n      <td>-2.378179</td>\n      <td>2.535228</td>\n      <td>NaN</td>\n    </tr>\n    <tr>\n      <th>890</th>\n      <td>3</td>\n      <td>-1.079859</td>\n      <td>2.679221</td>\n      <td>NaN</td>\n      <td>-0.226806</td>\n      <td>NaN</td>\n      <td>NaN</td>\n      <td>-1.807515</td>\n      <td>-2.223057</td>\n      <td>2.555153</td>\n      <td>2.189913</td>\n    </tr>\n    <tr>\n      <th>891</th>\n      <td>4</td>\n      <td>-0.961371</td>\n      <td>3.633928</td>\n      <td>0.352449</td>\n      <td>NaN</td>\n      <td>-3.488688</td>\n      <td>NaN</td>\n      <td>-1.568924</td>\n      <td>NaN</td>\n      <td>2.706716</td>\n      <td>2.520366</td>\n    </tr>\n    <tr>\n      <th>894</th>\n      <td>3</td>\n      <td>-1.186919</td>\n      <td>-0.303802</td>\n      <td>NaN</td>\n      <td>0.236214</td>\n      <td>-3.333672</td>\n      <td>-2.262145</td>\n      <td>-1.246151</td>\n      <td>-1.801203</td>\n      <td>NaN</td>\n      <td>NaN</td>\n    </tr>\n    <tr>\n      <th>896</th>\n      <td>1</td>\n      <td>-1.061639</td>\n      <td>-1.734754</td>\n      <td>0.281646</td>\n      <td>NaN</td>\n      <td>-3.466753</td>\n      <td>-1.929701</td>\n      <td>NaN</td>\n      <td>-1.508756</td>\n      <td>3.187263</td>\n      <td>NaN</td>\n    </tr>\n  </tbody>\n</table>\n<p>631 rows × 11 columns</p>\n</div>"
     },
     "execution_count": 395,
     "metadata": {},
     "output_type": "execute_result"
    }
   ],
   "source": [
    "train_df"
   ],
   "metadata": {
    "collapsed": false
   }
  },
  {
   "cell_type": "code",
   "execution_count": null,
   "outputs": [],
   "source": [],
   "metadata": {
    "collapsed": false
   }
  }
 ],
 "metadata": {
  "kernelspec": {
   "display_name": "Python 3",
   "language": "python",
   "name": "python3"
  },
  "language_info": {
   "codemirror_mode": {
    "name": "ipython",
    "version": 2
   },
   "file_extension": ".py",
   "mimetype": "text/x-python",
   "name": "python",
   "nbconvert_exporter": "python",
   "pygments_lexer": "ipython2",
   "version": "2.7.6"
  }
 },
 "nbformat": 4,
 "nbformat_minor": 0
}
